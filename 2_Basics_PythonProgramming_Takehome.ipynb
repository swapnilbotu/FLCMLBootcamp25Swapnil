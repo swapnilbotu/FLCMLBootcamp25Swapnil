{
  "nbformat": 4,
  "nbformat_minor": 0,
  "metadata": {
    "colab": {
      "provenance": [],
      "include_colab_link": true
    },
    "kernelspec": {
      "name": "python3",
      "display_name": "Python 3"
    },
    "language_info": {
      "name": "python"
    }
  },
  "cells": [
    {
      "cell_type": "markdown",
      "metadata": {
        "id": "view-in-github",
        "colab_type": "text"
      },
      "source": [
        "<a href=\"https://colab.research.google.com/github/swapnilbotu/FLCMLBootcamp25Swapnil/blob/main/2_Basics_PythonProgramming_Takehome.ipynb\" target=\"_parent\"><img src=\"https://colab.research.google.com/assets/colab-badge.svg\" alt=\"Open In Colab\"/></a>"
      ]
    },
    {
      "cell_type": "markdown",
      "source": [
        "# Personal Finance 101 with Python\n",
        "\n",
        "- Investing is crucial for wealth growth, financial security, and achieving long-term financial goals.\n",
        "- One of the biggest reasons to invest is the power of compounding, which allows your money to grow exponentially over time."
      ],
      "metadata": {
        "id": "BGhlVvcyZGWp"
      }
    },
    {
      "cell_type": "markdown",
      "source": [
        "### Understanding the Compounding Effect\n",
        "\n",
        "$$ A = P * \\left( 1 + \\frac{r}{n} \\right) ^{n*t}$$\n",
        "\n",
        "Where,\n",
        "\n",
        "- A  = Final amount\n",
        "- P  = Principal (initial investment)\n",
        "- r  = Annual interest rate (as a decimal)\n",
        "- n  = Times interest is compounded per year\n",
        "- t  = Time in years\n"
      ],
      "metadata": {
        "id": "zyYa0RR2L_8n"
      }
    },
    {
      "cell_type": "code",
      "execution_count": 2,
      "metadata": {
        "id": "XrEjSeR5UQVl",
        "colab": {
          "base_uri": "https://localhost:8080/"
        },
        "outputId": "e5f8874c-05ab-448e-8ce1-ec3531669e2b"
      },
      "outputs": [
        {
          "output_type": "stream",
          "name": "stdout",
          "text": [
            "Compound Interest Calculator Results:\n",
            "Principal Amount: $1000.00\n",
            "Annual Interest Rate: 6.00%\n",
            "Compounding Frequency: 1 times per year\n",
            "Number of Years: 10\n",
            "Total Amount: $1790.85\n",
            "Total Interest Earned: $790.85\n"
          ]
        }
      ],
      "source": [
        "#@title Compound Interest Calculator\n",
        "\n",
        "#@markdown Enter the principal amount (P in $):\n",
        "principal = 1000 #@param {type:\"number\"}\n",
        "\n",
        "#@markdown Enter the annual interest rate as a percentage (r):\n",
        "interest_rate = 6 #@param {type:\"number\"}\n",
        "\n",
        "#@markdown Enter the number of times interest is compounded per year (n):\n",
        "compounding_frequency = 1 #@param {type:\"number\"}\n",
        "\n",
        "#@markdown Enter the number of years (t):\n",
        "years = 10 #@param {type:\"number\"}\n",
        "\n",
        "\n",
        "# Calculate compound interest\n",
        "# 1. Convert percentage into decimal\n",
        "interest_rate_decimal = interest_rate/100\n",
        "\n",
        "\n",
        "# 2. Calculate the final amount (A)\n",
        "final_amount = principal * (1 + (interest_rate_decimal / compounding_frequency)) ** (compounding_frequency * years)\n",
        "\n",
        "\n",
        "# 3. Calculate the total interest earned\n",
        "total_interest = final_amount - principal\n",
        "\n",
        "\n",
        "# Display the results\n",
        "print(\"Compound Interest Calculator Results:\")\n",
        "print(f\"Principal Amount: ${principal:.2f}\")\n",
        "print(f\"Annual Interest Rate: {interest_rate:.2f}%\")\n",
        "print(f\"Compounding Frequency: {compounding_frequency} times per year\")\n",
        "print(f\"Number of Years: {years}\")\n",
        "print(f\"Total Amount: ${final_amount:.2f}\")\n",
        "print(f\"Total Interest Earned: ${total_interest:.2f}\")\n"
      ]
    },
    {
      "cell_type": "markdown",
      "source": [
        "### Effect of starting principal (P)\n",
        "\n",
        "Write a function to calculate total amount and total interest earned for starting principal (P in $): 10, 50, 100, 500 and 1000. Assume r=5%, n=1 and t=5.\n",
        "\n",
        "Hint: Iterate over a list data structure containing 'P' values using a compound interest calculator function"
      ],
      "metadata": {
        "id": "ScJlnZfEbTUH"
      }
    },
    {
      "cell_type": "code",
      "source": [
        "# Calculate the effect of starting principal (more 'P')\n",
        "\n",
        "def totalAmount_totalInterest(p, r, n, t):\n",
        "  final_amount = p * (1 + r/n) ** (n * t)\n",
        "  total_interest = final_amount - p\n",
        "  return final_amount, total_interest\n",
        "\n",
        "principals = [10, 50, 100, 500, 1000]\n",
        "for p in principals:\n",
        "  amount, interest = totalAmount_totalInterest(p, 0.05, 1, 5)\n",
        "  print(f\"Principal: ${p} ; Final Amount: ${round(amount, 2)} ; Total Interest Earned: ${round(interest ,2)}\")"
      ],
      "metadata": {
        "id": "MICZ2cnDbrZg",
        "colab": {
          "base_uri": "https://localhost:8080/"
        },
        "outputId": "e394248b-a0c6-4453-c3de-af6b1dd8eb2e"
      },
      "execution_count": 6,
      "outputs": [
        {
          "output_type": "stream",
          "name": "stdout",
          "text": [
            "Principal: $10 ; Final Amount: $12.76 ; Total Interest Earned: $2.76\n",
            "Principal: $50 ; Final Amount: $63.81 ; Total Interest Earned: $13.81\n",
            "Principal: $100 ; Final Amount: $127.63 ; Total Interest Earned: $27.63\n",
            "Principal: $500 ; Final Amount: $638.14 ; Total Interest Earned: $138.14\n",
            "Principal: $1000 ; Final Amount: $1276.28 ; Total Interest Earned: $276.28\n"
          ]
        }
      ]
    },
    {
      "cell_type": "markdown",
      "source": [
        "Write a simple conclusion on what the effect of starting principal (more 'P') is on a compounding interest investment?"
      ],
      "metadata": {
        "id": "BIcD3dEecSpq"
      }
    },
    {
      "cell_type": "code",
      "source": [
        "'''\n",
        "Starting with a larger principal amount, leads to a larger final amount and interest earned\n",
        "'''"
      ],
      "metadata": {
        "id": "gCpivos6chhj",
        "colab": {
          "base_uri": "https://localhost:8080/",
          "height": 35
        },
        "outputId": "ae0532f9-53f6-4cea-a3f5-5011afc59859"
      },
      "execution_count": 8,
      "outputs": [
        {
          "output_type": "execute_result",
          "data": {
            "text/plain": [
              "'\\nStarting with a larger principal amount, leads to a larger final amount and interest earned\\n'"
            ],
            "application/vnd.google.colaboratory.intrinsic+json": {
              "type": "string"
            }
          },
          "metadata": {},
          "execution_count": 8
        }
      ]
    },
    {
      "cell_type": "markdown",
      "source": [
        "### Effect of starting early (more years of investing = more 't')\n",
        "\n",
        "Reuse the compounding interest calculator function above and determine the effect of more years of investing 't': 2yrs, 5yrs, 10yrs, 20yrs, 30yrs. Assume P=\\$100, r=5% and n=1."
      ],
      "metadata": {
        "id": "3Zi_t5Ftcsw1"
      }
    },
    {
      "cell_type": "code",
      "source": [
        "# Calculate the effect of starting early (more 't')\n",
        "\n",
        "years = [2, 5, 10, 20, 30]\n",
        "for year in years:\n",
        "  amount, interest = totalAmount_totalInterest(100, 0.05, 1, year)\n",
        "  print(f\"Principal: ${p} ; Final Amount: ${round(amount, 2)} ; Total Interest Earned: ${round(interest ,2)}\")"
      ],
      "metadata": {
        "id": "a5jHCG7NdcBf",
        "colab": {
          "base_uri": "https://localhost:8080/"
        },
        "outputId": "378d7212-da55-434e-9165-0ce86d5cf5cb"
      },
      "execution_count": 10,
      "outputs": [
        {
          "output_type": "stream",
          "name": "stdout",
          "text": [
            "Principal: $1000 ; Final Amount: $110.25 ; Total Interest Earned: $10.25\n",
            "Principal: $1000 ; Final Amount: $127.63 ; Total Interest Earned: $27.63\n",
            "Principal: $1000 ; Final Amount: $162.89 ; Total Interest Earned: $62.89\n",
            "Principal: $1000 ; Final Amount: $265.33 ; Total Interest Earned: $165.33\n",
            "Principal: $1000 ; Final Amount: $432.19 ; Total Interest Earned: $332.19\n"
          ]
        }
      ]
    },
    {
      "cell_type": "markdown",
      "source": [
        "#### Write a simple conclusion on what the effect of starting early (more 't') is on a compounding interest investment?\n"
      ],
      "metadata": {
        "id": "dkDFHmiNdosi"
      }
    },
    {
      "cell_type": "code",
      "source": [
        "'''\n",
        "Starting early leads to a larger final amount and total interest earned\n",
        "'''"
      ],
      "metadata": {
        "id": "nv9whkF1GqUa",
        "outputId": "007fa230-67cc-4e09-ed76-680bcda22099",
        "colab": {
          "base_uri": "https://localhost:8080/",
          "height": 35
        }
      },
      "execution_count": 11,
      "outputs": [
        {
          "output_type": "execute_result",
          "data": {
            "text/plain": [
              "'\\nStarting early leads to a larger final amount and total interest earned\\n'"
            ],
            "application/vnd.google.colaboratory.intrinsic+json": {
              "type": "string"
            }
          },
          "metadata": {},
          "execution_count": 11
        }
      ]
    },
    {
      "cell_type": "markdown",
      "source": [
        "### Effect of better rate of return (more 'r')\n",
        "\n",
        "Reuse the compounding interest calculator function above and determine the effect of better rate of return 'r': 2%, 5%, 8% and 10%. Assume P=$100, n=1 and t=5."
      ],
      "metadata": {
        "id": "b4HolM8adwzl"
      }
    },
    {
      "cell_type": "code",
      "source": [
        "# Calculate the effect of better rate of return (more 'r')\n",
        "\n",
        "rList = [0.02, 0.05, 0.08, 0.1]\n",
        "for r in rList:\n",
        "  amount, interest = totalAmount_totalInterest(100, r, 1, 5)\n",
        "  print(f\"Principal: ${p} ; Final Amount: ${round(amount, 2)} ; Total Interest Earned: ${round(interest ,2)}\")"
      ],
      "metadata": {
        "id": "pbcjQ24Kew56",
        "colab": {
          "base_uri": "https://localhost:8080/"
        },
        "outputId": "414edd4c-c26a-4cbe-b684-0fce51cb27f0"
      },
      "execution_count": 12,
      "outputs": [
        {
          "output_type": "stream",
          "name": "stdout",
          "text": [
            "Principal: $1000 ; Final Amount: $110.41 ; Total Interest Earned: $10.41\n",
            "Principal: $1000 ; Final Amount: $127.63 ; Total Interest Earned: $27.63\n",
            "Principal: $1000 ; Final Amount: $146.93 ; Total Interest Earned: $46.93\n",
            "Principal: $1000 ; Final Amount: $161.05 ; Total Interest Earned: $61.05\n"
          ]
        }
      ]
    },
    {
      "cell_type": "markdown",
      "source": [
        "#### Write a simple conclusion on what the effect of better rate of return (more 'r') is on a compounding interest investment?"
      ],
      "metadata": {
        "id": "q5ihxgcKez4g"
      }
    },
    {
      "cell_type": "code",
      "source": [
        "'''\n",
        "A better return rate leads to a larger final amount and total interest earned\n",
        "'''"
      ],
      "metadata": {
        "id": "qgSZi_95HBPn",
        "outputId": "4f58258b-b569-4582-dd25-5c91ee87a3fe",
        "colab": {
          "base_uri": "https://localhost:8080/",
          "height": 35
        }
      },
      "execution_count": 13,
      "outputs": [
        {
          "output_type": "execute_result",
          "data": {
            "text/plain": [
              "'\\nA better return rate leads to a larger final amount and total interest earned\\n'"
            ],
            "application/vnd.google.colaboratory.intrinsic+json": {
              "type": "string"
            }
          },
          "metadata": {},
          "execution_count": 13
        }
      ]
    },
    {
      "cell_type": "markdown",
      "source": [
        "### What happens to a compounding interest investment if you also do recurring investment (adding fixed \\$ amount in a fixed time frequency into the principal 'P')"
      ],
      "metadata": {
        "id": "8RPUEsNYe7nw"
      }
    },
    {
      "cell_type": "code",
      "source": [
        "# Write a new python function that will also take a fixed recurring deposit 'rd' every month to calculate compounding interest\n",
        "\n",
        "def recurring_compoundInterest(P, r, n, t, rd):\n",
        "\n",
        "  final_amount = P * (1 + r/n) ** (n * t)\n",
        "\n",
        "  recurring_interest = rd * (((1 + r/n) ** (n * t) - 1) / (r/n))\n",
        "\n",
        "  final_amount += recurring_interest\n",
        "\n",
        "  total_interest = final_amount - (P + rd * 12 * t)\n",
        "\n",
        "  return final_amount, total_interest"
      ],
      "metadata": {
        "id": "PXVG53KdffHD"
      },
      "execution_count": 18,
      "outputs": []
    },
    {
      "cell_type": "markdown",
      "source": [
        "#### What is the effect of disciplined investing using recurring deposits?\n",
        "\n",
        "Use the new compounding interest calculator with recurring investment to calculate the effect of disciplined investing. Assume P=$100, r=5%, n=12 (monthly compounding), t=5.\n",
        "\n",
        "Calculate for different 'rd' (in $): 0, 1, 5, 10, 50, 100"
      ],
      "metadata": {
        "id": "WoKmXBp3gaeN"
      }
    },
    {
      "cell_type": "code",
      "source": [
        "# Write code to calculate the final_amount (A) for recurring deposits into monthly compounding investment\n",
        "\n",
        "recurring_deposits = [0, 1, 5, 10, 50, 100]\n",
        "\n",
        "# Calculate final amount and total interest for each recurring deposit value\n",
        "for rd in recurring_deposits:\n",
        "    final_amount, total_interest = recurring_compoundInterest(100, 0.05, 12, 5, rd)\n",
        "    print(f\"Recurring Deposit: ${rd} - Final Amount: ${final_amount:.2f} - Total Interest Earned: ${total_interest:.2f}\")"
      ],
      "metadata": {
        "id": "gz8NLxgzhHlU",
        "colab": {
          "base_uri": "https://localhost:8080/"
        },
        "outputId": "bd61c1ee-0f29-44c2-cf30-8ba158cd7d25"
      },
      "execution_count": 19,
      "outputs": [
        {
          "output_type": "stream",
          "name": "stdout",
          "text": [
            "Recurring Deposit: $0 - Final Amount: $128.34 - Total Interest Earned: $28.34\n",
            "Recurring Deposit: $1 - Final Amount: $196.34 - Total Interest Earned: $36.34\n",
            "Recurring Deposit: $5 - Final Amount: $468.37 - Total Interest Earned: $68.37\n",
            "Recurring Deposit: $10 - Final Amount: $808.40 - Total Interest Earned: $108.40\n",
            "Recurring Deposit: $50 - Final Amount: $3528.64 - Total Interest Earned: $428.64\n",
            "Recurring Deposit: $100 - Final Amount: $6928.94 - Total Interest Earned: $828.94\n"
          ]
        }
      ]
    },
    {
      "cell_type": "markdown",
      "source": [
        "#### Write a simple conclusion on what is the effect of disciplined investing using recurring deposits?"
      ],
      "metadata": {
        "id": "HzaDkeEmhRTd"
      }
    },
    {
      "cell_type": "code",
      "source": [
        "'''\n",
        "With a larger recurring deposit, you end up with a larger final amount and total interest earned\n",
        "'''"
      ],
      "metadata": {
        "id": "sl-9ldhwI_lZ",
        "outputId": "831e30d8-0983-4a72-d100-be3a486a001e",
        "colab": {
          "base_uri": "https://localhost:8080/",
          "height": 35
        }
      },
      "execution_count": 20,
      "outputs": [
        {
          "output_type": "execute_result",
          "data": {
            "text/plain": [
              "'\\nWith a larger recurring deposit, you end up with a larger final amount and total interest earned\\n'"
            ],
            "application/vnd.google.colaboratory.intrinsic+json": {
              "type": "string"
            }
          },
          "metadata": {},
          "execution_count": 20
        }
      ]
    },
    {
      "cell_type": "markdown",
      "source": [
        "### What problems/decisions that you face in life can be solved using basic Python programming? Share atleast two ideas.\n",
        "\n",
        "\n"
      ],
      "metadata": {
        "id": "V1SICqGdi3bu"
      }
    },
    {
      "cell_type": "code",
      "source": [
        "'''\n",
        "- Calculating the mortgage payments on a home loan\n",
        "- Creating a random password generator to create passwords for websites/applications\n",
        "'''"
      ],
      "metadata": {
        "id": "6kGoUrPEJPIk",
        "outputId": "26650bb4-a109-4643-fa52-f189e0465de0",
        "colab": {
          "base_uri": "https://localhost:8080/",
          "height": 35
        }
      },
      "execution_count": 21,
      "outputs": [
        {
          "output_type": "execute_result",
          "data": {
            "text/plain": [
              "'\\n- Calculating the mortgage payments on a home loan\\n- Creating a random password generator to create passwords for websites/applications\\n'"
            ],
            "application/vnd.google.colaboratory.intrinsic+json": {
              "type": "string"
            }
          },
          "metadata": {},
          "execution_count": 21
        }
      ]
    },
    {
      "cell_type": "markdown",
      "source": [
        "# Final Retrospection:\n",
        "### What challenges did you face while programming with Python?\n",
        "\n",
        "\n",
        "\n",
        "### How did you overcome those challenges?\n",
        "\n",
        "\n",
        "\n",
        "### Mention other resources you used to solve this take-home assignment\n",
        "\n",
        "\n",
        "\n",
        "### Did you use any tools (like ChatGPT) to solve the issues? What are the challenges and opportunities?\n",
        "\n",
        "\n",
        "\n",
        "### After this exercise, are you feeling excited to learn more?\n",
        "\n",
        "\n",
        "\n",
        "\n",
        "NOTE: Save the file with your code and text answers before committing it to your new GitHub public repository. Send a link to your file on Github to the TA."
      ],
      "metadata": {
        "id": "gnnYEjdqhh7f"
      }
    },
    {
      "cell_type": "markdown",
      "source": [
        "- I did not face any challenges as I have previous Python experiance\n",
        "- N/A\n",
        "- N/A\n",
        "- I did not need to, however in the past whenever I use ChatGPT I often find myself asking it numerous follow-up prompts so I can better understand the code it has provided me with.\n",
        "- Yes, I am excited to get into the Data Science and Machine Learning side of Python!"
      ],
      "metadata": {
        "id": "kDRjdYxAJyQN"
      }
    }
  ]
}